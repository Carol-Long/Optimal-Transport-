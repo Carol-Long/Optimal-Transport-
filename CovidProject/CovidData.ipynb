{
 "cells": [
  {
   "cell_type": "code",
   "execution_count": 1,
   "metadata": {},
   "outputs": [],
   "source": [
    "import pandas as pd"
   ]
  },
  {
   "cell_type": "code",
   "execution_count": 2,
   "metadata": {},
   "outputs": [
    {
     "data": {
      "text/plain": [
       "'/Users/carollong/Desktop/OptimalTransport/CovidProject'"
      ]
     },
     "execution_count": 2,
     "metadata": {},
     "output_type": "execute_result"
    }
   ],
   "source": [
    "pwd"
   ]
  },
  {
   "cell_type": "code",
   "execution_count": 83,
   "metadata": {},
   "outputs": [
    {
     "name": "stdout",
     "output_type": "stream",
     "text": [
      "      FIPS     Admin2  Province_State Country_Region          Last_Update  \\\n",
      "0  45001.0  Abbeville  South Carolina             US  2020-04-01 21:58:49   \n",
      "1  22001.0     Acadia       Louisiana             US  2020-04-01 21:58:49   \n",
      "2  51001.0   Accomack        Virginia             US  2020-04-01 21:58:49   \n",
      "3  16001.0        Ada           Idaho             US  2020-04-01 21:58:49   \n",
      "4  19001.0      Adair            Iowa             US  2020-04-01 21:58:49   \n",
      "\n",
      "         Lat       Long_  Confirmed  Deaths  Recovered  Active  \\\n",
      "0  34.223334  -82.461707          4       0          0       0   \n",
      "1  30.295065  -92.414197         47       1          0       0   \n",
      "2  37.767072  -75.632346          7       0          0       0   \n",
      "3  43.452658 -116.241552        195       3          0       0   \n",
      "4  41.330756  -94.471059          1       0          0       0   \n",
      "\n",
      "                    Combined_Key  \n",
      "0  Abbeville, South Carolina, US  \n",
      "1          Acadia, Louisiana, US  \n",
      "2         Accomack, Virginia, US  \n",
      "3                 Ada, Idaho, US  \n",
      "4                Adair, Iowa, US  \n",
      "Index(['FIPS', 'Admin2', 'Province_State', 'Country_Region', 'Last_Update',\n",
      "       'Lat', 'Long_', 'Confirmed', 'Deaths', 'Recovered', 'Active',\n",
      "       'Combined_Key'],\n",
      "      dtype='object')\n",
      "(2483, 12)\n"
     ]
    }
   ],
   "source": [
    "april1Cases = pd.read_csv('04-01-2020.csv')\n",
    "print(april1Cases.head())\n",
    "print(april1Cases.columns)\n",
    "print(april1Cases.shape)"
   ]
  },
  {
   "cell_type": "code",
   "execution_count": 84,
   "metadata": {},
   "outputs": [
    {
     "name": "stdout",
     "output_type": "stream",
     "text": [
      "FIPS                                   NaN\n",
      "Admin2                          Unassigned\n",
      "Province_State                    New York\n",
      "Country_Region                          US\n",
      "Last_Update            2020-04-01 21:58:49\n",
      "Lat                                      0\n",
      "Long_                                    0\n",
      "Confirmed                                0\n",
      "Deaths                                 565\n",
      "Recovered                                0\n",
      "Active                                   0\n",
      "Combined_Key      Unassigned, New York, US\n",
      "Name: 1996, dtype: object\n",
      "2483\n"
     ]
    }
   ],
   "source": [
    "print(april1Cases.iloc[1996]) #need to take out\n",
    "print(len(april1Cases))"
   ]
  },
  {
   "cell_type": "code",
   "execution_count": 85,
   "metadata": {},
   "outputs": [
    {
     "name": "stdout",
     "output_type": "stream",
     "text": [
      "57\n"
     ]
    }
   ],
   "source": [
    "#filter entries with New York in Province_State, filter out the above entry\n",
    "april1Cases = april1Cases.drop(april1Cases.index[1996])\n",
    "Filter = april1Cases.Province_State.str.contains(\"New York\", na = False)\n",
    "filteredDF = april1Cases[Filter]\n",
    "print(len(filteredDF))"
   ]
  },
  {
   "cell_type": "code",
   "execution_count": 86,
   "metadata": {},
   "outputs": [
    {
     "name": "stdout",
     "output_type": "stream",
     "text": [
      "        FIPS       Admin2 Province_State Country_Region          Last_Update  \\\n",
      "20   36001.0       Albany       New York             US  2020-04-01 21:58:49   \n",
      "28   36003.0     Allegany       New York             US  2020-04-01 21:58:49   \n",
      "197  36007.0       Broome       New York             US  2020-04-01 21:58:49   \n",
      "313  36009.0  Cattaraugus       New York             US  2020-04-01 21:58:49   \n",
      "314  36011.0       Cayuga       New York             US  2020-04-01 21:58:49   \n",
      "\n",
      "           Lat      Long_  Confirmed  Deaths  Recovered  Active  \\\n",
      "20   42.600603 -73.977239        240       1          0       0   \n",
      "28   42.257484 -78.027505         10       1          0       0   \n",
      "197  42.159032 -75.813261         42       3          0       0   \n",
      "313  42.247782 -78.679231          7       0          0       0   \n",
      "314  42.912617 -76.557316          4       0          0       0   \n",
      "\n",
      "                  Combined_Key  \n",
      "20        Albany, New York, US  \n",
      "28      Allegany, New York, US  \n",
      "197       Broome, New York, US  \n",
      "313  Cattaraugus, New York, US  \n",
      "314       Cayuga, New York, US  \n"
     ]
    }
   ],
   "source": [
    "print(filteredDF.head())"
   ]
  },
  {
   "cell_type": "code",
   "execution_count": 87,
   "metadata": {},
   "outputs": [
    {
     "name": "stderr",
     "output_type": "stream",
     "text": [
      "/Library/Frameworks/Python.framework/Versions/3.7/lib/python3.7/site-packages/ipykernel_launcher.py:2: SettingWithCopyWarning: \n",
      "A value is trying to be set on a copy of a slice from a DataFrame.\n",
      "Try using .loc[row_indexer,col_indexer] = value instead\n",
      "\n",
      "See the caveats in the documentation: http://pandas.pydata.org/pandas-docs/stable/user_guide/indexing.html#returning-a-view-versus-a-copy\n",
      "  \n"
     ]
    }
   ],
   "source": [
    "# Add a column of \"TotalCases\"\n",
    "filteredDF[\"TotalCases\"] = filteredDF[\"Confirmed\"] + filteredDF[\"Deaths\"] + filteredDF[\"Recovered\"]"
   ]
  },
  {
   "cell_type": "code",
   "execution_count": 88,
   "metadata": {},
   "outputs": [],
   "source": [
    "#Add a column of percentage of total cases \"Weights\" prob\n",
    "sumCases = filteredDF[\"TotalCases\"].sum()\n",
    "#filteredDF[\"Weights\"] = filteredDF[\"TotalCases\"]/sumCases\n",
    "filteredDF.loc[:,\"Weights\"] =filteredDF.loc[:,\"TotalCases\"]/sumCases"
   ]
  },
  {
   "cell_type": "code",
   "execution_count": 89,
   "metadata": {},
   "outputs": [],
   "source": [
    "filteredDF = filteredDF.sort_values(by ='Weights' , ascending=False)"
   ]
  },
  {
   "cell_type": "code",
   "execution_count": 90,
   "metadata": {},
   "outputs": [
    {
     "data": {
      "text/plain": [
       "<BarContainer object of 57 artists>"
      ]
     },
     "execution_count": 90,
     "metadata": {},
     "output_type": "execute_result"
    },
    {
     "data": {
      "image/png": "[encoded data removed]",
      "text/plain": [
       "<Figure size 1080x216 with 1 Axes>"
      ]
     },
     "metadata": {
      "needs_background": "light"
     },
     "output_type": "display_data"
    }
   ],
   "source": [
    "import numpy as np\n",
    "import matplotlib.pylab as pl\n",
    "pl.figure(1, figsize=(15, 3))\n",
    "pl.xticks(rotation=90)\n",
    "pl.bar(filteredDF[\"Admin2\"], filteredDF[\"Weights\"],  width=1)\n"
   ]
  },
  {
   "cell_type": "code",
   "execution_count": 91,
   "metadata": {},
   "outputs": [
    {
     "name": "stdout",
     "output_type": "stream",
     "text": [
      "         FIPS         Admin2 Province_State Country_Region  \\\n",
      "1434  36061.0  New York City       New York             US   \n",
      "2134  36119.0    Westchester       New York             US   \n",
      "1417  36059.0         Nassau       New York             US   \n",
      "1878  36103.0        Suffolk       New York             US   \n",
      "1695  36087.0       Rockland       New York             US   \n",
      "\n",
      "              Last_Update        Lat      Long_  Confirmed  Deaths  Recovered  \\\n",
      "1434  2020-04-01 21:58:49  40.767273 -73.971526      47439    1139          0   \n",
      "2134  2020-04-01 21:58:49  41.162784 -73.757417      10683      25          0   \n",
      "1417  2020-04-01 21:58:49  40.740665 -73.589419       9554      76          0   \n",
      "1878  2020-04-01 21:58:49  40.883201 -72.801217       7605      53          0   \n",
      "1695  2020-04-01 21:58:49  41.150279 -74.025605       3321      18          0   \n",
      "\n",
      "      Active                 Combined_Key  TotalCases   Weights  \n",
      "1434       0  New York City, New York, US       48578  0.569336  \n",
      "2134       0    Westchester, New York, US       10708  0.125498  \n",
      "1417       0         Nassau, New York, US        9630  0.112864  \n",
      "1878       0        Suffolk, New York, US        7658  0.089752  \n",
      "1695       0       Rockland, New York, US        3339  0.039133  \n"
     ]
    }
   ],
   "source": [
    "print(filteredDF.head())"
   ]
  },
  {
   "cell_type": "code",
   "execution_count": 92,
   "metadata": {},
   "outputs": [],
   "source": [
    "import ot\n",
    "import ot.plot\n",
    "# k = 9  # number of Diracs of the barycenter, number of testing sites\n",
    "# d = 2\n",
    "# X_init = np.random.normal(0., 1., (k, d))  # initial Dirac locations\n",
    "# b = np.ones((k,)) / k  # weights of the barycenter (it will not be optimized, only the locations are optimized)\n",
    "# measures_locations = []\n",
    "# coordinates = filteredDF[[\"Lat\",\"Long_\"]]\n",
    "# measures_locations.append(np.array(coordinates.values.tolist())) \n",
    "# measures_weights = []\n",
    "# measures_weights.append(filteredDF[\"Weights\"].values)\n",
    "# X = ot.lp.free_support_barycenter(measures_locations, measures_weights, X_init, b)"
   ]
  },
  {
   "cell_type": "code",
   "execution_count": 93,
   "metadata": {},
   "outputs": [],
   "source": [
    "# print(X)"
   ]
  },
  {
   "cell_type": "code",
   "execution_count": 94,
   "metadata": {},
   "outputs": [],
   "source": [
    "#Take out NYC, reassign weights\n",
    "filteredDF2 = filteredDF.iloc[1:]\n",
    "\n",
    "sumCases = filteredDF2[\"TotalCases\"].sum()\n",
    "filteredDF2.loc[:,\"Weights\"] =filteredDF2.loc[:,\"TotalCases\"]/sumCases"
   ]
  },
  {
   "cell_type": "code",
   "execution_count": 95,
   "metadata": {},
   "outputs": [
    {
     "data": {
      "text/plain": [
       "<BarContainer object of 56 artists>"
      ]
     },
     "execution_count": 95,
     "metadata": {},
     "output_type": "execute_result"
    },
    {
     "data": {
      "image/png": "[encoded data removed]",
      "text/plain": [
       "<Figure size 1080x216 with 1 Axes>"
      ]
     },
     "metadata": {
      "needs_background": "light"
     },
     "output_type": "display_data"
    }
   ],
   "source": [
    "pl.figure(2, figsize=(15, 3))\n",
    "pl.xticks(rotation=90)\n",
    "pl.bar(filteredDF2[\"Admin2\"], filteredDF2[\"Weights\"],  width=1)"
   ]
  },
  {
   "cell_type": "code",
   "execution_count": 96,
   "metadata": {},
   "outputs": [
    {
     "data": {
      "text/plain": [
       "1.0"
      ]
     },
     "execution_count": 96,
     "metadata": {},
     "output_type": "execute_result"
    }
   ],
   "source": [
    "#Sanity check\n",
    "filteredDF2.iloc[1,13] += 1-np.sum(filteredDF2[\"Weights\"])\n",
    "np.sum(filteredDF2[\"Weights\"])"
   ]
  },
  {
   "cell_type": "code",
   "execution_count": 97,
   "metadata": {},
   "outputs": [],
   "source": [
    "k = 50  # number of Diracs of the barycenter, number of testing sites\n",
    "d = 2\n",
    "X_init = np.random.normal(0., 1., (k, d))  # initial Dirac locations\n",
    "b = np.ones((k,)) / k  # weights of the barycenter (it will not be optimized, only the locations are optimized)\n",
    "measures_locations = []\n",
    "coordinates = filteredDF2[[\"Lat\",\"Long_\"]]\n",
    "measures_locations.append(np.array(coordinates.values.tolist())) \n",
    "measures_weights = []\n",
    "measures_weights.append(filteredDF2[\"Weights\"].values)\n",
    "X = ot.lp.free_support_barycenter(measures_locations, measures_weights, X_init, b)"
   ]
  },
  {
   "cell_type": "code",
   "execution_count": 98,
   "metadata": {},
   "outputs": [
    {
     "name": "stdout",
     "output_type": "stream",
     "text": [
      "[array([[ 41.16278376, -73.75741653],\n",
      "       [ 40.74066522, -73.58941873],\n",
      "       [ 40.88320119, -72.8012172 ],\n",
      "       [ 41.15027894, -74.02560498],\n",
      "       [ 41.40337468, -74.30240757],\n",
      "       [ 42.76249024, -78.73063652],\n",
      "       [ 41.7648606 , -73.74356679],\n",
      "       [ 43.14638895, -77.69322942],\n",
      "       [ 43.00491923, -76.19971155],\n",
      "       [ 42.60060306, -73.97723916],\n",
      "       [ 41.89027881, -74.26252104],\n",
      "       [ 41.42630093, -73.74965532],\n",
      "       [ 43.10904162, -73.86653895],\n",
      "       [ 41.71579493, -74.76394559],\n",
      "       [ 42.81668777, -74.05278291],\n",
      "       [ 42.44945765, -76.47229843],\n",
      "       [ 42.91653905, -75.67266639],\n",
      "       [ 42.71348136, -73.51089874],\n",
      "       [ 43.24375382, -75.43710392],\n",
      "       [ 43.19898042, -78.74777412],\n",
      "       [ 42.15903158, -75.81326086],\n",
      "       [ 42.24819348, -73.63089095],\n",
      "       [ 42.2689144 , -77.3829924 ],\n",
      "       [ 44.4976179 , -75.06550039],\n",
      "       [ 42.49430041, -75.60887553],\n",
      "       [ 44.74530905, -73.67875352],\n",
      "       [ 42.85145728, -77.30874425],\n",
      "       [ 43.15494365, -77.02976528],\n",
      "       [ 42.13891056, -76.7638805 ],\n",
      "       [ 43.42778894, -76.14635194],\n",
      "       [ 42.63492579, -75.03151402],\n",
      "       [ 42.19837623, -74.96709306],\n",
      "       [ 42.72596275, -77.77966158],\n",
      "       [ 43.56173026, -73.8433699 ],\n",
      "       [ 42.275797  , -74.12384884],\n",
      "       [ 43.42034246, -74.96145307],\n",
      "       [ 43.0022601 , -78.19135193],\n",
      "       [ 44.04200959, -75.94653457],\n",
      "       [ 43.31153794, -73.43043448],\n",
      "       [ 42.70145109, -78.22199579],\n",
      "       [ 42.25748406, -78.02750466],\n",
      "       [ 42.59509207, -76.07048931],\n",
      "       [ 42.58831742, -74.4433903 ],\n",
      "       [ 42.2276921 , -79.36691763],\n",
      "       [ 44.59040891, -74.29926032],\n",
      "       [ 42.16852837, -76.30835812],\n",
      "       [ 42.24778241, -78.67923096],\n",
      "       [ 42.90123494, -74.44011632],\n",
      "       [ 44.11630765, -73.77297842],\n",
      "       [ 43.2516977 , -78.2320066 ],\n",
      "       [ 42.91261714, -76.55731592],\n",
      "       [ 42.39184015, -76.8773299 ],\n",
      "       [ 42.78081007, -76.82497064],\n",
      "       [ 43.7844157 , -75.44903992],\n",
      "       [ 43.66146647, -74.49721957],\n",
      "       [ 43.11363907, -74.41798804]])]\n"
     ]
    }
   ],
   "source": [
    "\n",
    "# print(len(measures_locations[0][0]))\n",
    "# print(len(measures_weights[0][0]))\n",
    "print(measures_locations)\n",
    "#print(measures_weights[0])\n",
    "# print(X_init.shape)\n",
    "# print(b)"
   ]
  },
  {
   "cell_type": "code",
   "execution_count": 99,
   "metadata": {},
   "outputs": [
    {
     "name": "stdout",
     "output_type": "stream",
     "text": [
      "[[ 41.15079688 -74.01449676]\n",
      " [ 40.88320119 -72.8012172 ]\n",
      " [ 40.74066522 -73.58941873]\n",
      " [ 40.88320119 -72.8012172 ]\n",
      " [ 40.94174188 -73.66944468]\n",
      " [ 41.16278376 -73.75741653]\n",
      " [ 41.16278376 -73.75741653]\n",
      " [ 40.88320119 -72.8012172 ]\n",
      " [ 42.78795927 -78.65511954]\n",
      " [ 40.74066522 -73.58941873]\n",
      " [ 40.88320119 -72.8012172 ]\n",
      " [ 40.88320119 -72.8012172 ]\n",
      " [ 42.43812426 -75.1105145 ]\n",
      " [ 40.74066522 -73.58941873]\n",
      " [ 41.16278376 -73.75741653]\n",
      " [ 41.16278376 -73.75741653]\n",
      " [ 41.16278376 -73.75741653]\n",
      " [ 41.15027894 -74.02560498]\n",
      " [ 42.76355987 -73.89541422]\n",
      " [ 40.74066522 -73.58941873]\n",
      " [ 41.63787805 -73.74600913]\n",
      " [ 41.16278376 -73.75741653]\n",
      " [ 40.88320119 -72.8012172 ]\n",
      " [ 41.16278376 -73.75741653]\n",
      " [ 41.16278376 -73.75741653]\n",
      " [ 41.16278376 -73.75741653]\n",
      " [ 40.74066522 -73.58941873]\n",
      " [ 40.74066522 -73.58941873]\n",
      " [ 40.74066522 -73.58941873]\n",
      " [ 40.80055624 -73.2582308 ]\n",
      " [ 41.2553716  -74.14054141]\n",
      " [ 40.74066522 -73.58941873]\n",
      " [ 41.16278376 -73.75741653]\n",
      " [ 41.16278376 -73.75741653]\n",
      " [ 41.16278376 -73.75741653]\n",
      " [ 40.88320119 -72.8012172 ]\n",
      " [ 41.15027894 -74.02560498]\n",
      " [ 41.16278376 -73.75741653]\n",
      " [ 42.97412543 -77.05625436]\n",
      " [ 41.40337468 -74.30240757]\n",
      " [ 40.74066522 -73.58941873]\n",
      " [ 40.74066522 -73.58941873]\n",
      " [ 41.40337468 -74.30240757]\n",
      " [ 41.16278376 -73.75741653]\n",
      " [ 40.74066522 -73.58941873]\n",
      " [ 40.88320119 -72.8012172 ]\n",
      " [ 41.15027894 -74.02560498]\n",
      " [ 40.88320119 -72.8012172 ]\n",
      " [ 40.88320119 -72.8012172 ]\n",
      " [ 40.74066522 -73.58941873]]\n",
      "<class 'numpy.ndarray'>\n"
     ]
    }
   ],
   "source": [
    "#note: two overlaps\n",
    "print(X)\n",
    "print(type(X[0]))"
   ]
  },
  {
   "cell_type": "code",
   "execution_count": 100,
   "metadata": {},
   "outputs": [
    {
     "name": "stdout",
     "output_type": "stream",
     "text": [
      "[ 41.16278376 -73.75741653]\n"
     ]
    }
   ],
   "source": [
    "print(np.array(coordinates.iloc[0]))"
   ]
  },
  {
   "cell_type": "code",
   "execution_count": 101,
   "metadata": {},
   "outputs": [],
   "source": [
    "#current drive-through locations\n",
    "locations = [\"Niagara\", \"Erie\", \"Broome\", \"Monroe\", \"Oneida\", \"Westchester\", \"Rockland\", \"Suffolk\",\"Nassau\", \"Orange\"]\n",
    "currentCenters = []\n",
    "for i in range(len(filteredDF2)):\n",
    "    if filteredDF2.Admin2.iloc[i] in locations:\n",
    "        currentCenters.append((coordinates.iloc[i].values.tolist()))\n",
    "currentCenters = np.array(currentCenters)"
   ]
  },
  {
   "cell_type": "code",
   "execution_count": 102,
   "metadata": {},
   "outputs": [
    {
     "name": "stdout",
     "output_type": "stream",
     "text": [
      "[[ 41.16278376 -73.75741653]\n",
      " [ 40.74066522 -73.58941873]\n",
      " [ 40.88320119 -72.8012172 ]\n",
      " [ 41.15027894 -74.02560498]\n",
      " [ 41.40337468 -74.30240757]\n",
      " [ 42.76249024 -78.73063652]\n",
      " [ 43.14638895 -77.69322942]\n",
      " [ 43.24375382 -75.43710392]\n",
      " [ 43.19898042 -78.74777412]\n",
      " [ 42.15903158 -75.81326086]]\n"
     ]
    }
   ],
   "source": [
    "print(np.array(currentCenters))"
   ]
  },
  {
   "cell_type": "code",
   "execution_count": 105,
   "metadata": {},
   "outputs": [
    {
     "data": {
      "image/png": "[encoded data removed]",
      "text/plain": [
       "<Figure size 432x288 with 1 Axes>"
      ]
     },
     "metadata": {
      "needs_background": "light"
     },
     "output_type": "display_data"
    }
   ],
   "source": [
    "pl.figure(3)\n",
    "for (x_i, b_i) in zip(measures_locations, measures_weights):\n",
    "    #color = 15\n",
    "    pl.scatter(x_i[:, 1], x_i[:, 0], s=b_i * 2000, label='input measure')\n",
    "pl.scatter(X[:, 1], X[:, 0], s=b * 8000, c='red', marker='+', label='2-Wasserstein barycenter')\n",
    "pl.scatter(currentCenters[:, 1], currentCenters[:, 0], s=b * 8000, c='purple', marker='+', label='original centers')\n",
    "pl.title('NY State Covid Cases Barycenters')\n",
    "pl.legend(loc=0)\n",
    "pl.show()"
   ]
  },
  {
   "cell_type": "code",
   "execution_count": 24,
   "metadata": {},
   "outputs": [],
   "source": [
    "#"
   ]
  }
 ],
 "metadata": {
  "kernelspec": {
   "display_name": "Python 3",
   "language": "python",
   "name": "python3"
  },
  "language_info": {
   "codemirror_mode": {
    "name": "ipython",
    "version": 3
   },
   "file_extension": ".py",
   "mimetype": "text/x-python",
   "name": "python",
   "nbconvert_exporter": "python",
   "pygments_lexer": "ipython3",
   "version": "3.7.4"
  }
 },
 "nbformat": 4,
 "nbformat_minor": 2
}
