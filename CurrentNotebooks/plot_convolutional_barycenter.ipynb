{
 "cells": [
  {
   "cell_type": "code",
   "execution_count": null,
   "metadata": {},
   "outputs": [],
   "source": [
    "%matplotlib inline"
   ]
  },
  {
   "cell_type": "markdown",
   "metadata": {},
   "source": [
    "\n",
    "# Convolutional Wasserstein Barycenter example\n",
    "\n",
    "This example is designed to illustrate how the Convolutional Wasserstein Barycenter\n",
    "function of POT works.\n"
   ]
  },
  {
   "cell_type": "code",
   "execution_count": 1,
   "metadata": {},
   "outputs": [],
   "source": [
    "# Author: Nicolas Courty <ncourty@irisa.fr>\n",
    "#\n",
    "# License: MIT License\n",
    "\n",
    "\n",
    "import numpy as np\n",
    "import pylab as pl\n",
    "import ot"
   ]
  },
  {
   "cell_type": "markdown",
   "metadata": {},
   "source": [
    "## Data preparation\n",
    "\n",
    "The four distributions are constructed from 4 simple images\n",
    "\n"
   ]
  },
  {
   "cell_type": "code",
   "execution_count": 21,
   "metadata": {},
   "outputs": [
    {
     "name": "stdout",
     "output_type": "stream",
     "text": [
      "True\n"
     ]
    }
   ],
   "source": [
    "f1 = 1 - pl.imread('/Users/carollong/Desktop/OptimalTransport/Pneumonia/Data1/CT_COVID/2020.03.04.20031039-p23-97_2%1.png')[:, :, 2]\n",
    "f2 = 1 - pl.imread('/Users/carollong/Desktop/OptimalTransport/Pneumonia/Data1/CT_COVID/2020.02.11.20021493-p16-109%0.png')[:, :, 2]\n",
    "f3 = 1 - pl.imread('/Users/carollong/Desktop/OptimalTransport/Pneumonia/Data1/CT_COVID/2020.03.04.20031047-p13-84%5.png')\n",
    "f4 = 1 - pl.imread('/Users/carollong/Desktop/OptimalTransport/Pneumonia/Data1/CT_COVID/2020.03.13.20035212-p23-158.png')\n",
    "\n",
    "A = []\n",
    "f1 = f1 / np.sum(f1)\n",
    "f2 = f2 / np.sum(f2)\n",
    "f3 = f3 / np.sum(f3)\n",
    "f4 = f4 / np.sum(f4)\n",
    "A.append(f1)\n",
    "A.append(f2)\n",
    "A.append(f3)\n",
    "A.append(f4)\n",
    "A = np.array(A)\n",
    "\n",
    "nb_images = 5\n",
    "\n",
    "# those are the four corners coordinates that will be interpolated by bilinear\n",
    "# interpolation\n",
    "v1 = np.array((1, 0, 0, 0))\n",
    "v2 = np.array((0, 1, 0, 0))\n",
    "v3 = np.array((0, 0, 1, 0))\n",
    "v4 = np.array((0, 0, 0, 1))\n",
    "\n",
    "print(len(f3.shape)==3)"
   ]
  },
  {
   "cell_type": "markdown",
   "metadata": {},
   "source": [
    "## Barycenter computation and visualization\n",
    "\n",
    "\n"
   ]
  },
  {
   "cell_type": "code",
   "execution_count": null,
   "metadata": {},
   "outputs": [],
   "source": [
    "pl.figure(figsize=(10, 10))\n",
    "pl.title('Convolutional Wasserstein Barycenters in POT')\n",
    "cm = 'Blues'\n",
    "# regularization parameter\n",
    "reg = 0.004\n",
    "for i in range(nb_images):\n",
    "    for j in range(nb_images):\n",
    "        pl.subplot(nb_images, nb_images, i * nb_images + j + 1)\n",
    "        tx = float(i) / (nb_images - 1)\n",
    "        ty = float(j) / (nb_images - 1)\n",
    "\n",
    "        # weights are constructed by bilinear interpolation\n",
    "        tmp1 = (1 - tx) * v1 + tx * v2\n",
    "        tmp2 = (1 - tx) * v3 + tx * v4\n",
    "        weights = (1 - ty) * tmp1 + ty * tmp2\n",
    "\n",
    "        if i == 0 and j == 0:\n",
    "            pl.imshow(f1, cmap=cm)\n",
    "            pl.axis('off')\n",
    "        elif i == 0 and j == (nb_images - 1):\n",
    "            pl.imshow(f3, cmap=cm)\n",
    "            pl.axis('off')\n",
    "        elif i == (nb_images - 1) and j == 0:\n",
    "            pl.imshow(f2, cmap=cm)\n",
    "            pl.axis('off')\n",
    "        elif i == (nb_images - 1) and j == (nb_images - 1):\n",
    "            pl.imshow(f4, cmap=cm)\n",
    "            pl.axis('off')\n",
    "        else:\n",
    "            # call to barycenter computation\n",
    "            pl.imshow(ot.bregman.convolutional_barycenter2d(A, reg, weights), cmap=cm)\n",
    "            pl.axis('off')\n",
    "pl.show()"
   ]
  }
 ],
 "metadata": {
  "kernelspec": {
   "display_name": "Python 3",
   "language": "python",
   "name": "python3"
  },
  "language_info": {
   "codemirror_mode": {
    "name": "ipython",
    "version": 3
   },
   "file_extension": ".py",
   "mimetype": "text/x-python",
   "name": "python",
   "nbconvert_exporter": "python",
   "pygments_lexer": "ipython3",
   "version": "3.7.4"
  }
 },
 "nbformat": 4,
 "nbformat_minor": 1
}
