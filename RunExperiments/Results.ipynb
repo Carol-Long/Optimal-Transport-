{
 "cells": [
  {
   "cell_type": "code",
   "execution_count": 5,
   "metadata": {},
   "outputs": [
    {
     "name": "stdout",
     "output_type": "stream",
     "text": [
      "DataProcessing.py       bregmanbarystab.py      covid_val.npy\r\n",
      "\u001b[34mOldFiles\u001b[m\u001b[m/               convo.py                freeSupport.py\r\n",
      "Results.ipynb           convoCovid.csv          non_test.npy\r\n",
      "Results.txt             convoNon.csv            non_train.npy\r\n",
      "bregmanbary.py          covid_test.npy          non_val.npy\r\n",
      "bregmanbarysinkhorn.py  covid_train.npy         testssh.py\r\n"
     ]
    }
   ],
   "source": [
    "ls"
   ]
  },
  {
   "cell_type": "code",
   "execution_count": 6,
   "metadata": {},
   "outputs": [],
   "source": [
    "import numpy as np\n",
    "import math\n",
    "import ot\n",
    "import matplotlib.pyplot as plt\n",
    "from numpy import genfromtxt\n",
    "# covid barycenter, from convo.py, reg = 0.002\n",
    "X = genfromtxt('convoCovid.csv', delimiter=',')\n",
    "# non covid barycenter\n",
    "Y = genfromtxt('convoNon.csv', delimiter=',')\n",
    "validation_covid = np.load('covid_val.npy')\n",
    "validation_non = np.load('non_val.npy')\n",
    "\n",
    "M = []\n",
    "k = 50\n",
    "for i in range(k):\n",
    "    for j in range(k):\n",
    "        for m in range(k):\n",
    "            for n in range(k):\n",
    "                M.append(math.pow(i-m,2)+math.pow(j-n,2))\n",
    "M = np.reshape(M, (k*k,k*k))\n",
    "M = np.array(M)\n",
    "Xflat = X.flatten()\n",
    "Xflat /= np.sum(Xflat)\n",
    "Yflat = Y.flatten()\n",
    "Yflat /= np.sum(Yflat)"
   ]
  },
  {
   "cell_type": "code",
   "execution_count": 35,
   "metadata": {},
   "outputs": [
    {
     "name": "stdout",
     "output_type": "stream",
     "text": [
      "[[0. 1. 4. 1. 2. 5. 4. 5. 8.]\n",
      " [1. 0. 1. 2. 1. 2. 5. 4. 5.]\n",
      " [4. 1. 0. 5. 2. 1. 8. 5. 4.]\n",
      " [1. 2. 5. 0. 1. 4. 1. 2. 5.]\n",
      " [2. 1. 2. 1. 0. 1. 2. 1. 2.]\n",
      " [5. 2. 1. 4. 1. 0. 5. 2. 1.]\n",
      " [4. 5. 8. 1. 2. 5. 0. 1. 4.]\n",
      " [5. 4. 5. 2. 1. 2. 1. 0. 1.]\n",
      " [8. 5. 4. 5. 2. 1. 4. 1. 0.]]\n",
      "[0.2941667]\n",
      "0.3\n"
     ]
    }
   ],
   "source": [
    "import numpy as np\n",
    "import ot\n",
    "a = [0.09,0.2,0.1,0.05,0.05,0.2,0.2, 0.1,0.01]\n",
    "b = [0.1,0.1,0.1,0.15,0.05,0.1,0.2,0.1,0.1]\n",
    "a = np.array(a)\n",
    "b = np.array(b)\n",
    "k = 3\n",
    "M = []\n",
    "for i in range(k):\n",
    "    for j in range(k):\n",
    "        for m in range(k):\n",
    "            for n in range(k):\n",
    "                M.append(math.pow(i-m,2)+math.pow(j-n,2))\n",
    "M = np.reshape(M, (k*k,k*k))\n",
    "M = np.array(M)\n",
    "dist = ot.bregman.sinkhorn2(a,b,M,reg = 0.002)\n",
    "dist1 = ot.emd2(a,b,M)\n",
    "print(M)\n",
    "print(dist)\n",
    "print(dist1)"
   ]
  },
  {
   "cell_type": "code",
   "execution_count": 7,
   "metadata": {},
   "outputs": [],
   "source": [
    "# analyze result\n",
    "tp = 0\n",
    "fp = 0\n",
    "tn = 0\n",
    "fn = 0\n",
    "# calculate wasserstein dist between val image and barycenters\n",
    "for img in validation_covid:\n",
    "    mat = img.flatten()\n",
    "    dist1 = ot.emd2(mat,Xflat,M) \n",
    "    dist2 = ot.emd2(mat,Yflat,M)\n",
    "    #classify correct\n",
    "    if dist1<dist2:\n",
    "        tp+=1\n",
    "    else:\n",
    "        fn+=1\n",
    "for img in validation_non:\n",
    "    mat = img.flatten()\n",
    "    dist1 = ot.emd2(mat,Xflat,M) \n",
    "    dist2 = ot.emd2(mat,Yflat,M)\n",
    "    #classify correct\n",
    "    if dist1>dist2:\n",
    "        tn+=1\n",
    "    else:\n",
    "        fp+=1"
   ]
  },
  {
   "cell_type": "code",
   "execution_count": 8,
   "metadata": {},
   "outputs": [],
   "source": [
    "# Euclidean norm \n",
    "normCovid = np.zeros((k,k))\n",
    "for img in validation_covid:\n",
    "    normCovid+=img\n",
    "normCovid /= validation_covid.shape[0]\n",
    "\n",
    "normNon = np.zeros((k,k))\n",
    "for img in validation_non:\n",
    "    normNon += img\n",
    "normNon /= validation_non.shape[0]\n",
    "    \n",
    "# Classification\n",
    "tpE = 0\n",
    "fpE = 0\n",
    "tnE = 0\n",
    "fnE = 0\n",
    "# calculate euclidean dist between val image and barycenters\n",
    "for img in validation_covid:\n",
    "    mat1 = np.subtract(img, normCovid)\n",
    "    mat2 = np.subtract(img, normNon)\n",
    "    dist1 = np.linalg.norm(mat1) \n",
    "    dist2 = np.linalg.norm(mat2) \n",
    "    #classify correct\n",
    "    if dist1<dist2:\n",
    "        tpE +=1\n",
    "    else:\n",
    "        fnE +=1\n",
    "for img in validation_non:\n",
    "    mat = img.flatten()\n",
    "    Xflat = X.flatten()\n",
    "    Yflat = Y.flatten()\n",
    "    dist1 = ot.emd2(mat,Xflat,M) \n",
    "    dist2 = ot.emd2(mat,Yflat,M)\n",
    "    #classify correct\n",
    "    if dist1>dist2:\n",
    "        tnE +=1\n",
    "    else:\n",
    "        fpE +=1"
   ]
  },
  {
   "cell_type": "code",
   "execution_count": 9,
   "metadata": {},
   "outputs": [
    {
     "name": "stdout",
     "output_type": "stream",
     "text": [
      "convolutional2D Result:\n",
      "39 30 28 21\n",
      "Accuracy:  56.78, Recall:  65.00, Selectivity:  48.28\n",
      "euclidean Result:\n",
      "45 58 0 15\n",
      "Accuracy:  38.14, Recall:  75.00, Selectivity:  0.00\n"
     ]
    }
   ],
   "source": [
    "print(\"convolutional2D Result:\")\n",
    "print(tp,fp,tn,fn)\n",
    "accuracy = (tp+tn)/(tp+tn+fp+fn)*100\n",
    "recall = tp/(tp+fn)*100\n",
    "selectivity = tn/(tn+fp)*100\n",
    "print(\"Accuracy: % .2f, Recall: % .2f, Selectivity: % .2f\" %(accuracy, recall, selectivity))\n",
    "\n",
    "print(\"euclidean Result:\")\n",
    "print(tpE,fpE,tnE,fnE)\n",
    "accuracy = (tpE+tnE)/(tpE+tnE+fpE+fnE)*100\n",
    "recall = tpE/(tpE+fnE)*100\n",
    "selectivity = tnE/(tnE+fpE)*100\n",
    "print(\"Accuracy: % .2f, Recall: % .2f, Selectivity: % .2f\" %(accuracy, recall, selectivity))\n"
   ]
  },
  {
   "cell_type": "code",
   "execution_count": 4,
   "metadata": {},
   "outputs": [
    {
     "data": {
      "text/plain": [
       "<matplotlib.image.AxesImage at 0x11d7c0150>"
      ]
     },
     "execution_count": 4,
     "metadata": {},
     "output_type": "execute_result"
    },
    {
     "data": {
      "image/png": "[encoded data removed]",
      "text/plain": [
       "<Figure size 432x288 with 1 Axes>"
      ]
     },
     "metadata": {
      "needs_background": "light"
     },
     "output_type": "display_data"
    }
   ],
   "source": [
    "plt.imshow(X)"
   ]
  },
  {
   "cell_type": "code",
   "execution_count": 5,
   "metadata": {},
   "outputs": [
    {
     "data": {
      "text/plain": [
       "<matplotlib.image.AxesImage at 0x11d84dd10>"
      ]
     },
     "execution_count": 5,
     "metadata": {},
     "output_type": "execute_result"
    },
    {
     "data": {
      "image/png": "[encoded data removed]",
      "text/plain": [
       "<Figure size 432x288 with 1 Axes>"
      ]
     },
     "metadata": {
      "needs_background": "light"
     },
     "output_type": "display_data"
    }
   ],
   "source": [
    "plt.imshow(Y)"
   ]
  },
  {
   "cell_type": "code",
   "execution_count": 35,
   "metadata": {},
   "outputs": [],
   "source": [
    "import numpy as np\n",
    "import ot\n",
    "import matplotlib.pyplot as plt\n",
    "import math\n",
    "# Load Data\n",
    "training_covid = np.load('covid_train.npy')\n",
    "validation_covid = np.load('covid_val.npy')\n",
    "\n",
    "training_non = np.load('non_train.npy')\n",
    "validation_non = np.load('non_val.npy')\n",
    "\n",
    "# Start training parameters\n",
    "# A dim*n_his (pixel dist in columns)\n",
    "N = len(training_covid)\n",
    "A = []\n",
    "M = []\n",
    "for i in range(N):\n",
    "    arr = training_covid[i].flatten()\n",
    "    A.append(arr)\n",
    "A = np.array(A).transpose()\n",
    "\n",
    "# dimension\n",
    "k = training_covid.shape[1]\n",
    "# M dim*dim (euclidean dist)\n",
    "for i in range(k):\n",
    "    for j in range(k):\n",
    "        for m in range(k):\n",
    "            for n in range(k):\n",
    "                M.append(math.pow(i-m,2)+math.pow(j-n,2))\n",
    "M = np.reshape(M, (k*k,k*k))\n",
    "\n",
    "# A1 dim*n_his (pixel dist in columns)\n",
    "N1 = len(training_non)\n",
    "A1 = []\n",
    "M1 = M\n",
    "for i in range(N1):\n",
    "    arr = training_non[i].flatten()\n",
    "    A1.append(arr)\n",
    "A1 = np.array(A1).transpose()\n",
    "\n",
    "# covid\n",
    "reg = 0.004\n",
    "examples = len(training_covid)\n",
    "weights = np.array([1/examples for i in range(examples)]) #weights n*1\n",
    "X = ot.bregman.barycenter(A, M, reg, weights)\n"
   ]
  },
  {
   "cell_type": "code",
   "execution_count": 36,
   "metadata": {},
   "outputs": [
    {
     "name": "stdout",
     "output_type": "stream",
     "text": [
      "Bregmanbary Result:\n",
      "0 58 0 60\n",
      "Accuracy:  0.00, Recall:  0.00, Selectivity:  0.00\n"
     ]
    }
   ],
   "source": [
    "# non-covid\n",
    "examples1 = len(training_non)\n",
    "weights1 = np.array([1/examples1 for i in range(examples1)]) #weights1 n*1\n",
    "Y = ot.bregman.barycenter(A1, M, reg, weights1)\n",
    "\n",
    "X = np.reshape(X,(k,k))\n",
    "Y = np.reshape(Y,(k,k))\n",
    "\n",
    "# np.savetxt(\"bregmanbaryCovid.csv\", X, delimiter=\",\")\n",
    "# np.savetxt(\"bregmanbaryNon.csv\", Y, delimiter=\",\")\n",
    "\n",
    "# analyze result\n",
    "tp = 0\n",
    "fp = 0\n",
    "tn = 0\n",
    "fn = 0\n",
    "# calculate frobenius dist between val image and barycenters\n",
    "for img in validation_covid:\n",
    "    mat1 = np.subtract(img,X)\n",
    "    mat2 = np.subtract(img,Y)\n",
    "    dist1 = np.linalg.norm(mat1)\n",
    "    dist2 = np.linalg.norm(mat2)\n",
    "    # classify correct\n",
    "    if dist1<dist2:\n",
    "        tp+=1\n",
    "    else:\n",
    "        fn+=1\n",
    "for img in validation_non:\n",
    "    mat1 = np.subtract(img,X)\n",
    "    mat2 = np.subtract(img,Y)\n",
    "    dist1 = np.linalg.norm(mat1)\n",
    "    dist2 = np.linalg.norm(mat2)\n",
    "    # classify correct\n",
    "    if dist1>dist2:\n",
    "        tn+=1\n",
    "    else:\n",
    "        fp+=1\n",
    "accuracy = (tp+tn)/(tp+tn+fp+fn)*100\n",
    "recall = tp/(tp+fn)*100\n",
    "selectivity = tn/(tn+fp)*100\n",
    "print(\"Bregmanbary Result:\")\n",
    "print(tp,fp,tn,fn)\n",
    "accuracy = (tp+tn)/(tp+tn+fp+fn)*100\n",
    "recall = tp/(tp+fn)*100\n",
    "selectivity = tn/(tn+fp)*100\n",
    "print(\"Accuracy: % .2f, Recall: % .2f, Selectivity: % .2f\" %(accuracy, recall, selectivity))\n",
    "  \n"
   ]
  },
  {
   "cell_type": "code",
   "execution_count": 37,
   "metadata": {},
   "outputs": [
    {
     "name": "stdout",
     "output_type": "stream",
     "text": [
      "Breg Sinkhorn Result:\n",
      "0 58 0 60\n",
      "Accuracy:  0.00, Recall:  0.00, Selectivity:  0.00\n"
     ]
    }
   ],
   "source": [
    "import numpy as np\n",
    "import ot\n",
    "import matplotlib.pyplot as plt\n",
    "import math\n",
    "\n",
    "# Load Data\n",
    "training_covid = np.load('covid_train.npy')\n",
    "validation_covid = np.load('covid_val.npy')\n",
    "\n",
    "training_non = np.load('non_train.npy')\n",
    "validation_non = np.load('non_val.npy')\n",
    "\n",
    "# Start training parameters\n",
    "# A dim*n_his (pixel dist in columns)\n",
    "N = len(training_covid)\n",
    "A = []\n",
    "M = []\n",
    "for i in range(N):\n",
    "    arr = training_covid[i].flatten()\n",
    "    A.append(arr)\n",
    "A = np.array(A).transpose()\n",
    "\n",
    "# dimension\n",
    "k = training_covid.shape[1]\n",
    "# M dim*dim (euclidean dist)\n",
    "for i in range(k):\n",
    "    for j in range(k):\n",
    "        for m in range(k):\n",
    "            for n in range(k):\n",
    "                M.append(math.pow(i-m,2)+math.pow(j-n,2))\n",
    "M = np.reshape(M, (k*k,k*k))\n",
    "\n",
    "# A1 dim*n_his (pixel dist in columns)\n",
    "N1 = len(training_non)\n",
    "A1 = []\n",
    "M1 = M\n",
    "for i in range(N1):\n",
    "    arr = training_non[i].flatten()\n",
    "    A1.append(arr)\n",
    "A1 = np.array(A1).transpose()\n",
    "\n",
    "# covid\n",
    "reg = 0.002\n",
    "examples = len(training_covid)\n",
    "weights = np.array([1/examples for i in range(examples)]) #weights n*1\n",
    "X = ot.bregman.barycenter_sinkhorn(A, M, reg, weights)\n",
    "\n",
    "# non-covid\n",
    "examples1 = len(training_non)\n",
    "weights1 = np.array([1/examples1 for i in range(examples1)]) #weights1 n*1\n",
    "Y = ot.bregman.barycenter_sinkhorn(A1, M, reg, weights1)\n",
    "\n",
    "X = np.reshape(X,(k,k))\n",
    "Y = np.reshape(Y,(k,k))\n",
    "\n",
    "np.savetxt(\"bregmanbarysinkhornCovid.csv\", X, delimiter=\",\")\n",
    "np.savetxt(\"bregmanbarysinkhornNon.csv\", Y, delimiter=\",\")\n",
    "\n",
    "\n",
    "# analyze result\n",
    "tp = 0\n",
    "fp = 0\n",
    "tn = 0\n",
    "fn = 0\n",
    "# calculate frobenius dist between val image and barycenters\n",
    "for img in validation_covid:\n",
    "    mat1 = np.subtract(img,X)\n",
    "    mat2 = np.subtract(img,Y)\n",
    "    dist1 = np.linalg.norm(mat1)\n",
    "    dist2 = np.linalg.norm(mat2)\n",
    "    # classify correct\n",
    "    if dist1<dist2:\n",
    "        tp+=1\n",
    "    else:\n",
    "        fn+=1\n",
    "for img in validation_non:\n",
    "    mat1 = np.subtract(img,X)\n",
    "    mat2 = np.subtract(img,Y)\n",
    "    dist1 = np.linalg.norm(mat1)\n",
    "    dist2 = np.linalg.norm(mat2)\n",
    "    # classify correct\n",
    "    if dist1>dist2:\n",
    "        tn+=1\n",
    "    else:\n",
    "        fp+=1\n",
    "accuracy = (tp+tn)/(tp+tn+fp+fn)*100\n",
    "recall = tp/(tp+fn)*100\n",
    "selectivity = tn/(tn+fp)*100\n",
    "print(\"Breg Sinkhorn Result:\")\n",
    "print(tp,fp,tn,fn)\n",
    "accuracy = (tp+tn)/(tp+tn+fp+fn)*100\n",
    "recall = tp/(tp+fn)*100\n",
    "selectivity = tn/(tn+fp)*100\n",
    "print(\"Accuracy: % .2f, Recall: % .2f, Selectivity: % .2f\" %(accuracy, recall, selectivity))"
   ]
  },
  {
   "cell_type": "code",
   "execution_count": null,
   "metadata": {},
   "outputs": [],
   "source": []
  }
 ],
 "metadata": {
  "kernelspec": {
   "display_name": "Python 3",
   "language": "python",
   "name": "python3"
  },
  "language_info": {
   "codemirror_mode": {
    "name": "ipython",
    "version": 3
   },
   "file_extension": ".py",
   "mimetype": "text/x-python",
   "name": "python",
   "nbconvert_exporter": "python",
   "pygments_lexer": "ipython3",
   "version": "3.7.4"
  }
 },
 "nbformat": 4,
 "nbformat_minor": 2
}
